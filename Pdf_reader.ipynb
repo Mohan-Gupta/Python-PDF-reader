{
 "cells": [
  {
   "cell_type": "code",
   "execution_count": 5,
   "metadata": {},
   "outputs": [],
   "source": [
    "#importing the required library\n",
    "import PyPDF2\n",
    "import pyttsx3"
   ]
  },
  {
   "cell_type": "code",
   "execution_count": 6,
   "metadata": {},
   "outputs": [],
   "source": [
    "#pdf file link: https://www.who.int/docs/default-source/coronaviruse/situation-reports/20200227-sitrep-38-covid-19.pdf?sfvrsn=2db7a09b_4\n",
    "f = open(\"covid-19.pdf\",\"rb\")"
   ]
  },
  {
   "cell_type": "code",
   "execution_count": 7,
   "metadata": {},
   "outputs": [
    {
     "output_type": "execute_result",
     "data": {
      "text/plain": "8"
     },
     "metadata": {},
     "execution_count": 7
    }
   ],
   "source": [
    "#parsing the file to pdf file reader & creating a pdf_reader object\n",
    "pdf_reader = PyPDF2.PdfFileReader(f)\n",
    "\n",
    "#displaying total number of pages in the pdf file\n",
    "total_pages = pdf_reader.numPages\n",
    "total_pages"
   ]
  },
  {
   "cell_type": "code",
   "execution_count": 8,
   "metadata": {
    "tags": []
   },
   "outputs": [
    {
     "output_type": "stream",
     "name": "stdout",
     "text": "====Starting of 1 Page====\n \n \n \n \n \n \n \n \n \n \n \nData as reported \nby 10AM CET\n \n27 February 2020\n*\n \n \n \n \n \n \n \nCoronavirus disease 2019 (COVID\n-\n19)\n \nSituation Report \n\n \n38\n \n \nSITUATION IN NUMBERS \ntotal and new cases in last 24 \nhours\n \n \nGlobally \n \n82 29\n4\n \nconfirmed (118\n5\n \nnew)\n \n \nChina\n \n78 \n630\n \nconfirmed (\n439\n \nnew)\n \n  \n2747\n \ndeaths (\n29\n \nnew)\n \n \n \nOutside of China\n \n366\n4\n \nconfirmed (74\n6\n \nnew)\n \n  \n46 countries (9 new)\n \n    \n57 deaths (13 new)\n \n \n \nWHO RISK ASSESSMENT\n \n \nChina\n \nVery High\n \nRegional Level\n \nHigh\n \nGlobal Level\n \nHigh\n \n \n \n \n \n \n     \n \n \n \n \n \n \n \n \n \n \n         \n \n \n \n \n \n \n \n \n \n \n \n \nHIGHLIGHTS\n \n \n\n \nNine new Member States (Brazil, Denmark, Estonia, Georgia, Greece, Norway, \nPakistan, Romania, and \nNorth Macedonia\n) reported cases of COVID\n-\n19 in the \npast 24 hours. \n \n \n\n \nWHO and the World Tourism Organization released a joint statement \nregarding responsibility and coordination on tourism and COVID\n-\n19. For more \ninformation, please visit this \nwebpage\n.\n \n \n\n \nOpenWHO, a\n \nweb\n-\nbased \nlearning platform, has launched the \nfree \nonline \ncourses \nIntroduction to Emerging Respiratory Viruses, Including Novel \nCoronovirus\n, in \nPortuguese\n \nand \nHealth and Safety Briefing for Respiratory \nDiseases \n\n \nePROTECT \nin \nFrench\n \ntoday. \n \n \n\n \nWHO is utilizing an international network of expert laboratories to provide \nsupport in the detection of the COVID\n-\n19 virus globally.\n \nFor more information, \nplease see the Subject in Focus be\nlow. \n \n \n \n \n \n \nFigure 1. Countries, territories or areas with reported confirmed cases of COVID\n-\n19, 2\n7\n \nFebruary 2020\n \n \n \n \n \n \n \n\n====End of 1 Page====\n====Starting of 2 Page====\n \n \nSITUATION IN FOCUS: Laboratory Network and Detection\n \n \nOn 9 January 2020, WHO published \ninterim laboratory guidance for detection of the novel coronavirus\n. This \nguidance is continually updated as more data beco\nmes available and includes advice on sample collection, diagnostic \ntesting, and pathogen characterization. Specific \ninterim guidance on biosafety in the labo\nratory\n \nhas also been \npublished\n. A\nn update \nto\n \nthe guidance for the international shipment of specimens will follow soon. WHO is utilizing \nan international network of expert laboratories to provide support in the detection of the COVID\n-\n19 virus globally.\n \n \nFi\ngure 2. WHO international reference laboratories for the COVID\n-\n19 virus.\n \n \n \nThe diagnostic landscape of this outbreak is changing quickly. The first COVID\n-\n19 cases were detected using genomic \nsequencing, but multiple RT\n-\nPCR commercial and \nnon\n-\ncommercial assays have since been developed. As the \ninternational case load increases, there is an urgent need to rapidly scale up diagnostic capacity to detect and \nconfirm cases\n \nof COVID\n-\n19\n. WHO has taken a three\n-\npronged approach to enhance global dia\ngnostic capacity for the \nCOVID\n-\n19 virus: \n \n \n1)\n \nDeveloping a WHO network of 15 COVID\n-\n19 reference laboratories with demonstrated expertise in the \nmolecular detection of coronaviruses. These international laboratories can support national labs to confirm \nthe COV\nID\n-\n19 virus and troubleshoot their molecular assays.\n \n \n2)\n \nStrengthening national capacity for detection of the COVID\n-\n19 virus so that diagnostic testing can be \nperformed rapidly without the need for overseas shipping. Existing global networks for detection of \nrespiratory pathogens are being utilized \nincl\nuding\n, notably, the National Influenza Centers that support the \nGlobal Influenza Surveillance and Response System.\n \n \n3)\n \nEnsuring ongoing test availability. WHO has procured a commercial assay (manufactured under ISO\n:13485) \nwith strong performance data and shipped to over 150 laboratories globally as an interim measure for \nMember States requesting support. The main goal is to strengthen global diagnostic capacity for detection of \nthe COVID\n-\n19 virus. Support is now als\no provided to ensure the quality of testing through the \nimplementation of an External Quality Assurance mechanism.\n \n \nPublic health efforts are targeted at both interrupting further transmission and monitoring the spread\n \nof COVID\n-\n19\n. \nAs reports of asymptomat\nic cases increase, the need for reliable serology testing is becoming more urgent. There are \na number of groups working on this and developments are being monitored.\n \n\n====End of 2 Page====\n====Starting of 3 Page====\n \n \nSURVEILLANCE\n \n \n \nTable\n \n1\n.\n \nConfirmed\n \nand suspected\n \ncases of \nCOVID\n-\n19\n \nacute respirato\nry disease reported by provinces, regions and \ncities \nin China, \n2\n7\n \nFebruary 2020\n \nProvince/ \n \nRegion/ \n \nCity\n \nPopulation \n(10,000s)\n \nDaily\n \nCumulative\n \nConfirmed \ncases\n \n \nSuspected \ncases\n \n \nDeaths\n \nConfirmed \ncases\n \nDeaths\n \nHubei\n \n5917\n \n409\n \n403\n \n26\n \n65596\n \n2641\n \nGuangdong\n \n11346\n \n0\n \n0\n \n0\n \n1347\n \n7\n \nHenan\n \n9605\n \n1\n \n2\n \n1\n \n1272\n \n20\n \nZhejiang\n \n5737\n \n0\n \n0\n \n0\n \n1205\n \n1\n \nHunan\n \n6899\n \n1\n \n0\n \n0\n \n1017\n \n4\n \nAnhui\n \n6324\n \n0\n \n0\n \n0\n \n989\n \n6\n \nJiangxi\n \n4648\n \n0\n \n0\n \n0\n \n934\n \n1\n \nShandong\n \n10047\n \n0\n \n0\n \n0\n \n756\n \n6\n \nJiangsu\n \n8051\n \n0\n \n0\n \n0\n \n631\n \n0\n \nChongqing\n \n3102\n \n0\n \n11\n \n0\n \n576\n \n6\n \nSichuan\n \n8341\n \n3\n \n4\n \n0\n \n534\n \n3\n \nHeilongjiang\n \n3773\n \n0\n \n0\n \n1\n \n480\n \n13\n \nBeijing\n \n2154\n \n10\n \n10\n \n1\n \n410\n \n5\n \nShanghai\n \n2424\n \n1\n \n33\n \n0\n \n337\n \n3\n \nHebei\n \n7556\n \n5\n \n0\n \n0\n \n317\n \n6\n \nFujian\n \n3941\n \n2\n \n0\n \n0\n \n296\n \n1\n \nGuangxi\n \n4926\n \n0\n \n0\n \n0\n \n252\n \n2\n \nShaanxi\n \n3864\n \n0\n \n0\n \n0\n \n245\n \n1\n \nYunnan\n \n4830\n \n0\n \n3\n \n0\n \n174\n \n2\n \nHainan\n \n934\n \n0\n \n4\n \n0\n \n168\n \n5\n \nGuizhou\n \n3600\n \n0\n \n1\n \n0\n \n146\n \n2\n \nTianjin\n \n1560\n \n0\n \n20\n \n0\n \n135\n \n3\n \nShanxi\n \n3718\n \n0\n \n1\n \n0\n \n133\n \n0\n \nLiaoning\n \n4359\n \n0\n \n14\n \n0\n \n121\n \n1\n \nJilin\n \n2704\n \n0\n \n2\n \n0\n \n93\n \n1\n \nGansu\n \n2637\n \n0\n \n0\n \n0\n \n91\n \n2\n \nHong Kong SAR\n \n745\n \n6\n \n0\n \n0\n \n91\n \n2\n \nXinjiang\n \n2487\n \n0\n \n0\n \n0\n \n76\n \n2\n \nInner Mongolia\n \n2534\n \n0\n \n0\n \n0\n \n75\n \n0\n \nNingxia\n \n688\n \n1\n \n0\n \n0\n \n72\n \n0\n \nTaipei and environs\n \n2359\n \n0\n \n0\n \n0\n \n32\n \n1\n \nQinghai\n \n603\n \n0\n \n0\n \n0\n \n18\n \n0\n \nMacao SAR\n \n66\n \n0\n \n0\n \n0\n \n10\n \n0\n \nXizang\n \n344\n \n0\n \n0\n \n0\n \n1\n \n0\n \nTotal\n \n142823\n \n439\n \n508\n \n29\n \n78630\n \n2747\n \n \n \n \n \n \n \n\n====End of 3 Page====\n====Starting of 4 Page====\n \n \nTable\n \n2\n. Countries, territories or areas \noutside China \nwith report\ned \nlaboratory\n-\nconfirmed \nCOVID\n-\n19\n \ncases \nand \ndeaths\n. Data as of\n \n2\n7\n \nFebruary 2020\n \nCountry/Territory/Area\n \nConfirmed\n*\n \ncases (new)\n \n \nLikely place of exposure\n\n \nTotal cases with site of \ntransmission under \ninvestigation (new)\n \nTotal \ndeaths \n(new)\n \nChina \n(new)\n \nOutside \nreporting \ncountry and\n \no\nutside China \n(new)\n \nIn \nreporting \ncountry \n(new)\n \nWestern Pacific Region\n \nRepublic of Korea\n \n1766 (505)\n \n13 (0)\n \n4 (0)\n \n605 (0)\n \n1144 (505)\n \n13 (1)\n \nJapan\n \n186 (22)\n \n28 (0)\n \n11 (3)\n \n129 (13)\n \n18 (6)\n \n3 (2)\n \nSingapore\n \n93 (2)\n \n24 (0)\n \n0 \n(0)\n \n69 (2)\n \n0 (0)\n \n0 (0)\n \nAustralia\n \n23 (0)\n \n12 (0)\n \n8 (0)\n \n3 (0)\n \n0 (0)\n \n0 (0)\n \nMalaysia\n \n22 (0)\n \n18 (0)\n \n2 (0)\n \n2 (0)\n \n0 (0)\n \n0 (0)\n \nViet Nam\n \n16 (0)\n \n8 (0)\n \n0 (0)\n \n8 (0)\n \n0 (0)\n \n0 (0)\n \nPhilippines\n \n3 (0)\n \n3 (0)\n \n0 (0)\n \n0 (0)\n \n0 (0)\n \n1 (0)\n \nCambodia\n \n1 (0)\n \n1 (0)\n \n0 (0)\n \n0 (0)\n \n0 \n(0)\n \n0 (0)\n \nSouth\n-\nEast Asia Region\n \nThailand\n \n40 (0)\n \n23 (0)\n \n0 (0)\n \n7 (0)\n \n10 (0)\n \n0 (0)\n \nIndia\n \n3 (0)\n \n3 (0)\n \n0 (0)\n \n0 (0)\n \n0 (0)\n \n0 (0)\n \nNepal\n \n1 (0)\n \n1 (0)\n \n0 (0)\n \n0 (0)\n \n0 (0)\n \n0 (0)\n \nSri Lanka\n \n1 (0)\n \n1 (0)\n \n0 (0)\n \n0 (0)\n \n0 (0)\n \n0 (0)\n \nRegion of the Americas\n \nUnited \nStates of America\n \n59 (6)\n \n14 (0)\n \n42 (6)\n \n2 (0)\n \n1 (0)\n \n0 (0)\n \nCanada\n \n11 (1)\n \n7 (0)\n \n2 (1)\n \n1 (0)\n \n1 (0)\n \n0 (0)\n \nBrazil\n \n1 (1)\n \n0 (0)\n \n1 (1)\n \n0 (0)\n \n0 (0)\n \n0 (0)\n \nEuropean Region\n \nItaly\n \n400 (78)\n \n3 (0)\n \n0 (0)\n \n121 (0)\n \n276 (78)\n \n12 (1)\n \nGermany\n \n21 (3)\n \n2 (0)\n \n1 (1)\n \n14 (0)\n \n4 \n(2)\n \n0 (0)\n \nFrance\n \n18 (6)\n \n6 (1)\n \n2 (2)\n \n7 (0)\n \n3 (3)\n \n2 (1)\n \nThe United Kingdom\n \n13 (0)\n \n2 (0)\n \n10 (0)\n \n1 (0)\n \n0 (0)\n \n0 (0)\n \nSpain\n \n12 (10)\n \n0 (0)\n \n10 (8)\n \n1 (1)\n \n1 (1)\n \n0 (0)\n \nCroatia\n \n3 (1)\n \n0 (0)\n \n2 (1)\n \n1 (0)\n \n0 (0)\n \n0 (0)\n \nAustria\n \n2 (0)\n \n0 (0)\n \n2 (0)\n \n0 (0)\n \n0 (0)\n \n0 (0)\n \nFinland\n \n2 (1)\n \n1 (0)\n \n1 (1)\n \n0 (0)\n \n0 (0)\n \n0 (0)\n \nIsrael\n \n2 (0)\n \n0 (0)\n \n2 (0)\n \n0 (0)\n \n0 (0)\n \n0 (0)\n \nRussian Federation\n \n2 (0)\n \n2 (0)\n \n0 (0)\n \n0 (0)\n \n0 (0)\n \n0 (0)\n \nSweden\n \n2 (1)\n \n1 (0)\n \n1 (1)\n \n0 (0)\n \n0 (0)\n \n0 (0)\n \nBelgium\n \n1 (0)\n \n1 (0)\n \n0 (0)\n \n0 (0)\n \n0 (0)\n \n0 (0)\n \nDenmark\n \n1 (1)\n \n0 (0)\n \n1\n \n(1)\n \n0 (0)\n \n0 (0)\n \n0 (0)\n \nEstonia\n \n1 (1)\n \n0 (0)\n \n0 (0)\n \n0 (0)\n \n1 (1)\n \n0 (0)\n \nGeorgia\n \n1 (1)\n \n0 (0)\n \n1 (1)\n \n0 (0)\n \n0 (0)\n \n0 (0)\n \nGreece\n \n1 (1)\n \n0 (0)\n \n1 (1)\n \n0 (0)\n \n0 (0)\n \n0 (0)\n \nNorth Macedonia\n \n1 (1)\n \n0 (0)\n \n1 (1)\n \n0 (0)\n \n0 (0)\n \n0 (0)\n \nNorway\n \n1 (1)\n \n1 (1)\n \n0 (0)\n \n0 (0)\n \n0 (0)\n \n0 (0)\n \nRomania\n \n1 (1)\n \n0 (0)\n \n1 (1)\n \n0 (0)\n \n0 (0)\n \n0 (0)\n \nSwitzerland\n \n1 (0)\n \n0 (0)\n \n1 (0)\n \n0 (0)\n \n0 (0)\n \n0 (0)\n \nEastern Mediterranean Region\n \nIran (Islamic Republic of)\n \n141 (46)\n \n0 (0)\n \n0 (0)\n \n28 (0)\n \n113 (46)\n \n22 (7)\n \nKuwait\n \n43 (31)\n \n0 (0)\n \n43 (31)\n \n0 (0)\n \n0 (0)\n \n0 (0)\n \nBahrain\n \n33 (7)\n \n0 (0)\n \n33 (7)\n \n0 (0)\n \n0 (0)\n \n0 (0)\n \nUnited Arab Emirates\n \n13 (0)\n \n6 (0)\n \n2 (0)\n \n5 (0)\n \n0 (0)\n \n0 (0)\n \nIraq\n \n6 (1)\n \n0 (0)\n \n6 (1)\n \n0 (0)\n \n0 (0)\n \n0 (0)\n \nOman\n \n4 (0)\n \n0 (0)\n \n4 (0)\n \n0 (0)\n \n0 (0)\n \n0 (0)\n \n\n====End of 4 Page====\n====Starting of 5 Page====\n \n \nLebanon\n \n2 (1)\n \n0 (0)\n \n1 (0)\n \n0 (0)\n \n1 (1)\n \n0 (0)\n \nPakistan\n \n2 (2)\n \n0 \n(0)\n \n2 (2)\n \n0 (0)\n \n0 (0)\n \n0 (0)\n \nAfghanistan\n \n1 (0)\n \n0 (0)\n \n1 (0)\n \n0 (0)\n \n0 (0)\n \n0 (0)\n \nEgypt\n \n1 (0)\n \n0 (0)\n \n0 (0)\n \n1 (0)\n \n0 (0)\n \n0 (0)\n \nAfrican Region\n \nAlgeria\n \n1 (0)\n \n0 (0)\n \n1 (0)\n \n0 (0)\n \n0 (0)\n \n0 (0)\n \n \nSubtotal for all regions\n \n2959 (732)\n \n181 (2)\n \n200 (71)\n \n1005 (16)\n \n1573 \n(643)\n \n53\n \n(1\n2\n)\n \nInternational \nconveyance\n\n \n(Diamond \nPrincess)\n \n705 (14)\n \n0 (0)\n \n0 (0)\n \n0 (0)\n \n0 (0)\n \n4 (1)\n \nGrand total\n§\n \n3664 (746)\n \n181 (2)\n \n200 (71)\n \n1005 (16)\n \n1573 (643)\n \n57 (13)\n \n*\nCase classifications are\n \nbased on \nWHO case \ndefinitions\n \nfor \nCOVID\n-\n19\n.\n \n \n\nLocation of transmission is classified based on WHO analy\nsis of available official \ndata and\n \nmay be subject to reclassification as \nadditional data become available.\n \n\nCases identified on a cruise ship currently in Japanese territorial waters.\n \n§\n2\n34\n \nfemale/\n331\n \nmale/\n3099\n \nunknown. 2\n6\n \nhealthcare workers (\n5\n \nfemale/\n11\n \nmale/ 10 unknown). \n \n \n \n\n====End of 5 Page====\n====Starting of 6 Page====\n \n \nFigure \n3\n.\n \nEpidemic curve \nof \nCOVID\n-\n19\n \ncases\n \n(n=\n3\n38\n)\n \nidentified outside of China,\n \nby date of onset \nof symptoms \nand \nlikely exposure location\n,\n \n2\n7\n \nFebruary\n \n2020\n \n \n \n \n \nNote for figure 2: Of the \n3664\n \ncases reported outside China, \n92\n \nwere detected while \napparently \na\nsymptomatic. For \nthe remaining \n357\n2\n \ncases, information on date of onset is available only for the \n3\n38\n \ncases presented in the \nepidemiologic curve.\n \n \n \nFigure \n4\n.\n \nEpidemic curve of \nCOVID\n-\n19\n \ncases \n(n=\n3664\n) \nidentified outside of China, by date of report\n \nand likely \nexposure location\n, \n2\n7\n \nFebruary\n \n2020\n \n \n \n \n \n \n \n \n\n====End of 6 Page====\n====Starting of 7 Page====\n \n \n \n \nPREPAREDNESS AND RESPONSE\n \n \n\n \nTo view \nall \ntechnical guidance documents\n \nregarding \nCOVID\n-\n19\n, please go to \nthis webpage\n.\n \n\n \nWHO is working \nclosely \nwith International Air Transport Association (\nIATA) and have jointly developed a \nguidance document to provide advice to\n \nca\nbin crew\n \nand airport workers, based on \ncountry queries. The \nguidance can be found on the \nIATA webpage\n. \n \n\n \nWHO has developed \na protocol for the investigation of early \ncases (\n\nFirst Few X (FFX) Cases and contact \ninvestigation protocol for 2019\n-\nnovel coron\navirus (2019\n-\nnCoV) infection\n\n)\n. The protocol is designed to gain an \nearly understanding of the key clinical, epidemiological and virological characteristics of the first cases of \nCOVID\n-\n19\n \ninfection detected in \nany individual country, \nto inform the devel\nopment and updating of public health \nguidance to manage cases and reduce potential spread and impact of infection. \n \n\n \nWHO\n \nhas\n \nbeen\n \nin\n \nregular\n \nand\n \ndirect\n \ncontact\n \nwith\n \nMember\n \nStates\n \nwhere\n \ncases\n \nhave\n \nbeen\n \nreported.\n \nWHO is also \ninforming other countries about th\ne situation and providing support as requested.\n \n\n \nWHO has d\neveloped interim guidance for\n \nlaboratory diagnosis\n, \nadvice on the use of masks during home care and \nin health care settings in the context of the novel coronavirus (2019\n-\nnCoV) outbreak,\n \nclinical management\n,\n \ninfection prevention and control in health care settings,\n \nhome care for patients with suspected novel \ncoronavirus\n,\n \nrisk communication\n \nand community engagement\n \nand \nGlobal Surveillance for human infection with \nnovel coronavirus (2019\n-\nnCoV)\n.\n \n\n \nWHO has p\nrepared \ndisease commodity package\n \nthat includes an essential list of biomedical equipment, \nmedicines and supplies necessary to care for patients wi\nth 2019\n-\nnCoV.\n \n \n\n \nWHO has p\nrovided recommendations to reduce risk of \ntransmission from animals to humans\n.\n \n\n \nWHO has published an \nupdated advice for international traffic in relation to the outbreak of the novel \ncoronavirus 2019\n-\nnCoV\n.\n \n\n \nWHO has a\nctivat\ned\n \nof R&amp;D blueprint to accelerate diagnostics, vaccines, and therape\nutics.\n \n\n \nWHO has developed \nonline courses on the following topics: \n \nA general introduction to emerging respiratory \nviruses,\n \nincluding novel coronaviruses (available in \nFrench\n, \nChinese\n, \nSpanish\n, and \nPortuguese\n);  \nCritical Care of \nSevere Acute Respiratory Infections\n; and \nHealth and safety briefing for respiratory diseases \n-\n \nePROTECT\n \n(available in \nFrench\n)\n; \nInfection Prevention and Control for Novel Coronavirus (COVID\n-\n19)\n; \nCritical Care Severe \nAcute Respiratory Infection\n \nSTRATEGIC OBJECTIVES\n \n \n\no\n:\n \n \n\n \nInterrupt \nhuman\n-\nto\n-\nhuman transmission including reducing secondary infections among close contacts \nand health care workers, preventing transmission amplification events, and preventing further \ninternational spread*;\n \n \n\n \nIdentify, isolate and care for patients early, in\ncluding providing optimized care for infected patients;\n \n\n \nIdentify and reduce transmission from the animal source;\n \n\n \nAddress crucial unknowns regarding clinical severity, extent of transmission and infection, treatment \noptions, and accelerate the development o\nf diagnostics, therapeutics and vaccines;\n \n\n \nCommunicate critical risk and event information to all communities and counter misinformation;\n \n\n \nMinimize social and economic impact through multisectoral partnerships.\n \n \n*\nThis can be achieved through a combination of\n \npublic health measures, such as rapid identification, diagnosis \nand management of the cases, identification and follow up of the contacts, infection prevention and control in \nhealth\n \ncare settings, implementation of health measures for travelers, awareness\n-\nraising in the population\n \nand \nrisk communication.\n \n\n====End of 7 Page====\n====Starting of 8 Page====\n \n \n\n \nWHO is providing guidance on early investigations, which are critical to carry out early in an outbreak of a new \nvirus. The data collected from the protocols can be used to refine recommendations for surveillance\n \nand case \ndefinitions, to characterize the k\ney epidemiological transmission features of \nCOVID\n-\n19,\n \nhelp understand spread, \nseverity, spectrum of disease, impact on the community and to\n \ninform operational models for implementation of \ncountermeasures such as case isolation, contact\n \ntracing and isolatio\nn.\n \nSeveral protocols are available here: \nhttps://www.who.int/emergencies/diseases/novel\n-\ncoronavirus\n-\n2019/technical\n-\nguidance/early\n-\ninvest\nigations\n \n \n\n \nWHO is working with its networks of researchers and other experts to coordinate global work on surveillance, \nepidemiology, modelling, diagnostics, clinical care and treatment, and other ways to identify, manage the \ndisease and \ninterrupt \nonward tr\nansmission. WHO has issued interim guidance for countries, \nwhich are \nupdated \nregularly\n.\n \n\n \nWHO is working with \nglobal expert networks and partnerships for laboratory, infection prevention and control, \nclinical management and mathematical modelling.\n \n \nRECOMMENDATIONS AND ADVICE\n \nFOR THE PUBLIC\n \n \nIf you are not in an area where COVID\n-\n19 is spreading, or if you have not travelled from one of those areas or have \nnot been in close contact with someone who has and is feeling unwell, your chances of getting it \nare currently low. \n\nfacts to help you accurately determine your risks so that you can take reasonable precautions. (See \nFrequently Asked \nQuestions\n) Your healthcare provider, your national public health authority and your employer are all potential \nsources of accurate information on COVID\n-\n19 and whether it is in your are\na. It is important to be informed of the \nsituation where you live and take appropriate measures to protect yourself. (See  \nProtection measures for \neveryone\n).\n \nIf you are in an area where there is an outbreak of CO\nVID\n-\n19 you need to take the risk of infection seriously. Follow \nthe advice issued by national and local health authorities. Although for most people COVID\n-\n19 causes only mild \nillness, it can make some people very ill. More rarely, the disease can be fatal.\n \nOlder people, and those with pre\n-\nexisting medical conditions (such as high blood pressure, heart problems or diabetes) appear to be more vulnerable. \n(See \nProtection measures for persons who are in or have rece\nntly visited (past 14 days) areas where COVID\n-\n19 is \nspreading\n).\n \n \n \n\n====End of 8 Page====\n"
    }
   ],
   "source": [
    "#reading the texts of each page one by one\n",
    "\n",
    "for page in range(total_pages):\n",
    "    #Statement to show the start of a page\n",
    "    print(\"====Starting of {} Page====\".format(page+1))\n",
    "    \n",
    "    #reads the data of page by index\n",
    "    data = pdf_reader.getPage(page)\n",
    "    \n",
    "    #extracting text from data and printing it\n",
    "    print(data.extractText())\n",
    "    \n",
    "    #Statement to show the end of a page\n",
    "    print(\"====End of {} Page====\".format(page + 1))"
   ]
  },
  {
   "cell_type": "markdown",
   "metadata": {},
   "source": [
    "### What if pdf file is password protected?"
   ]
  },
  {
   "cell_type": "markdown",
   "metadata": {},
   "source": [
    "To read a password protected pdf file<br><br>\n",
    "first parse the file to pdf file reader & create a pdf_reader object by<br>\n",
    "pdf_readr = PyPDF2.PdfFileReader(file)<br>\n",
    "Then, use pdf_reader.decrypt(password)"
   ]
  },
  {
   "cell_type": "code",
   "execution_count": 9,
   "metadata": {},
   "outputs": [],
   "source": [
    "pdfReader = PyPDF2.PdfFileReader(f)\n",
    "pages = pdfReader.numPages\n",
    "\n",
    "speaker = pyttsx3.init()\n",
    "for num in range(7, pages):\n",
    "    page = pdfReader.getPage(num)\n",
    "    text = page.extractText()\n",
    "    speaker.say(text)\n",
    "    speaker.runAndWait()"
   ]
  },
  {
   "cell_type": "code",
   "execution_count": null,
   "metadata": {},
   "outputs": [],
   "source": []
  }
 ],
 "metadata": {
  "kernelspec": {
   "display_name": "Python 3",
   "language": "python",
   "name": "python3"
  },
  "language_info": {
   "codemirror_mode": {
    "name": "ipython",
    "version": 3
   },
   "file_extension": ".py",
   "mimetype": "text/x-python",
   "name": "python",
   "nbconvert_exporter": "python",
   "pygments_lexer": "ipython3",
   "version": "3.8.5-final"
  }
 },
 "nbformat": 4,
 "nbformat_minor": 2
}